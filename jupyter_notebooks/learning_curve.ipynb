{
 "cells": [
  {
   "cell_type": "code",
   "execution_count": 5,
   "metadata": {},
   "outputs": [
    {
     "data": {
      "text/plain": [
       "67348"
      ]
     },
     "execution_count": 5,
     "metadata": {},
     "output_type": "execute_result"
    }
   ],
   "source": [
    "import json\n",
    "\n",
    "# Load the JSON data from the text file\n",
    "file_path = 'result/init_S2_clip_1_test.txt'   \n",
    "with open(file_path, 'r') as file:\n",
    "    data = json.load(file)\n",
    "\n",
    "# Extract lists from the loaded data\n",
    "average_reward_1 = data['all_average_reward']\n",
    "len(average_reward_1)"
   ]
  },
  {
   "cell_type": "code",
   "execution_count": 6,
   "metadata": {},
   "outputs": [
    {
     "data": {
      "text/plain": [
       "8554"
      ]
     },
     "execution_count": 6,
     "metadata": {},
     "output_type": "execute_result"
    }
   ],
   "source": [
    "import json\n",
    "\n",
    "# Load the JSON data from the text file\n",
    "file_path = 'result/S2clip_final_7_test.txt'   \n",
    "with open(file_path, 'r') as file:\n",
    "    data = json.load(file)\n",
    "\n",
    "# Extract lists from the loaded data\n",
    "average_reward_2 = data['all_average_reward']\n",
    "len(average_reward_2)"
   ]
  },
  {
   "cell_type": "code",
   "execution_count": 59,
   "metadata": {},
   "outputs": [
    {
     "data": {
      "text/plain": [
       "129157"
      ]
     },
     "execution_count": 59,
     "metadata": {},
     "output_type": "execute_result"
    }
   ],
   "source": [
    "import json\n",
    "\n",
    "# Load the JSON data from the text file\n",
    "file_path = 'result/S2te_final_11_train.txt'   \n",
    "with open(file_path, 'r') as file:\n",
    "    data = json.load(file)\n",
    "\n",
    "# Extract lists from the loaded data\n",
    "average_reward_3 = data['all_average_reward']\n",
    "len(average_reward_3)"
   ]
  },
  {
   "cell_type": "code",
   "execution_count": 60,
   "metadata": {},
   "outputs": [
    {
     "data": {
      "text/plain": [
       "77100"
      ]
     },
     "execution_count": 60,
     "metadata": {},
     "output_type": "execute_result"
    }
   ],
   "source": [
    "import json\n",
    "\n",
    "# Load the JSON data from the text file\n",
    "file_path = 'result/S2te_final_13_train.txt'   \n",
    "with open(file_path, 'r') as file:\n",
    "    data = json.load(file)\n",
    "\n",
    "# Extract lists from the loaded data\n",
    "average_reward_4 = data['all_average_reward']\n",
    "len(average_reward_4)"
   ]
  },
  {
   "cell_type": "code",
   "execution_count": 7,
   "metadata": {},
   "outputs": [
    {
     "data": {
      "text/plain": [
       "75902"
      ]
     },
     "execution_count": 7,
     "metadata": {},
     "output_type": "execute_result"
    }
   ],
   "source": [
    "average_rewards_test = average_reward_1+average_reward_2\n",
    "len(average_rewards_test)"
   ]
  },
  {
   "cell_type": "code",
   "execution_count": 8,
   "metadata": {},
   "outputs": [],
   "source": [
    "import json\n",
    "ALG_NAME = 'init_S2_clip'\n",
    "ENV_ID = 1\n",
    "# data = {\n",
    "#             'all_average_reward': average_rewards_train,\n",
    "            \n",
    "#         } \n",
    "# file_path = f'result/{ALG_NAME}_{ENV_ID}_train.txt'\n",
    "# with open(file_path, 'w') as file:\n",
    "#     json.dump(data, file)\n",
    "\n",
    "test_data = {\n",
    "            'all_average_reward': average_rewards_test,\n",
    "            \n",
    "        } \n",
    "file_path = f'result/{ALG_NAME}_{ENV_ID}_test.txt'\n",
    "with open(file_path, 'w') as file:\n",
    "    json.dump(test_data, file)"
   ]
  },
  {
   "cell_type": "code",
   "execution_count": 16,
   "metadata": {},
   "outputs": [
    {
     "name": "stdout",
     "output_type": "stream",
     "text": [
      "200576 150642\n"
     ]
    }
   ],
   "source": [
    "import json\n",
    "train_or_test = 'train'\n",
    "file_path = f'result/init_S2_1_{train_or_test}.txt'   \n",
    "with open(file_path, 'r') as file:\n",
    "    data = json.load(file)\n",
    "\n",
    "# Extract lists from the loaded data\n",
    "average_reward_1_onehot = data['all_average_reward']\n",
    "\n",
    "# Load the JSON data from the text file\n",
    "file_path = f'result/init_S2_2_{train_or_test}.txt'   \n",
    "with open(file_path, 'r') as file:\n",
    "    data = json.load(file)\n",
    "\n",
    "# Extract lists from the loaded data\n",
    "average_reward_2_onehot = data['all_average_reward']\n",
    "\n",
    "# Load the JSON data from the text file\n",
    "file_path = f'result/init_S2_clip_1_{train_or_test}.txt'   \n",
    "with open(file_path, 'r') as file:\n",
    "    data = json.load(file)\n",
    "\n",
    "# Extract lists from the loaded data\n",
    "average_reward_1_clip = data['all_average_reward']\n",
    "\n",
    "# Load the JSON data from the text file\n",
    "file_path = f'result/init_S2_clip_2_{train_or_test}.txt'   \n",
    "with open(file_path, 'r') as file:\n",
    "    data = json.load(file)\n",
    "\n",
    "# Extract lists from the loaded data\n",
    "average_reward_2_clip = data['all_average_reward']\n",
    "\n",
    "# Load the JSON data from the text file\n",
    "file_path = f'result/init_S2_vanilla_1_{train_or_test}.txt'   \n",
    "with open(file_path, 'r') as file:\n",
    "    data = json.load(file)\n",
    "\n",
    "# Extract lists from the loaded data\n",
    "average_reward_1_vanilla = data['all_average_reward']\n",
    "\n",
    "# Load the JSON data from the text file\n",
    "file_path = f'result/init_S2_vanilla_2_{train_or_test}.txt'   \n",
    "with open(file_path, 'r') as file:\n",
    "    data = json.load(file)\n",
    "\n",
    "# Extract lists from the loaded data\n",
    "average_reward_2_vanilla = data['all_average_reward']\n",
    "\n",
    "file_path = f'result/init_S2_bert_1_{train_or_test}.txt'   \n",
    "with open(file_path, 'r') as file:\n",
    "    data = json.load(file)\n",
    "\n",
    "# Extract lists from the loaded data\n",
    "average_reward_1_bert = data['all_average_reward']\n",
    "\n",
    "# Load the JSON data from the text file\n",
    "file_path = f'result/init_S2_bert_2_{train_or_test}.txt'   \n",
    "with open(file_path, 'r') as file:\n",
    "    data = json.load(file)\n",
    "\n",
    "# Extract lists from the loaded data\n",
    "average_reward_2_bert = data['all_average_reward']\n",
    "\n",
    "# # Load the JSON data from the text file\n",
    "# file_path = 'result/init_S2_3_train.txt'   \n",
    "# with open(file_path, 'r') as file:\n",
    "#     data = json.load(file)\n",
    "\n",
    "# # Extract lists from the loaded data\n",
    "# average_reward_3 = data['all_average_reward']\n",
    "\n",
    "print(len(average_reward_1_onehot),len(average_reward_2_onehot))\n"
   ]
  },
  {
   "cell_type": "code",
   "execution_count": 17,
   "metadata": {},
   "outputs": [],
   "source": [
    "smooth1_onehot = []\n",
    "for i in range(len(average_reward_1_onehot)-900):\n",
    "    avg = (average_reward_1_onehot[i]+average_reward_1_onehot[100+i]+average_reward_1_onehot[200+i]+average_reward_1_onehot[300+i]+average_reward_1_onehot[400+i]+average_reward_1_onehot[500+i]+average_reward_1_onehot[600+i]+average_reward_1_onehot[700+i]+average_reward_1_onehot[800+i]+average_reward_1_onehot[900+i])/10\n",
    "    smooth1_onehot.append(avg)\n",
    "smooth2_onehot = []\n",
    "average_reward_2 = average_reward_2_onehot\n",
    "for i in range(len(average_reward_2_onehot)-900):\n",
    "    avg = (average_reward_2[i]+average_reward_2[100+i]+average_reward_2[200+i]+average_reward_2[300+i]+average_reward_2[400+i]+average_reward_2[500+i]+average_reward_2[600+i]+average_reward_2[700+i]+average_reward_2[800+i]+average_reward_2[900+i])/10\n",
    "    smooth2_onehot.append(avg)\n",
    "# smooth1_onehot = average_reward_1_onehot\n",
    "# smooth2_onehot = average_reward_2_onehot\n",
    "\n",
    "smooth1_clip = []\n",
    "average_reward_1 = average_reward_1_clip\n",
    "for i in range(len(average_reward_1_clip)-900):\n",
    "    avg = (average_reward_1[i]+average_reward_1[100+i]+average_reward_1[200+i]+average_reward_1[300+i]+average_reward_1[400+i]+average_reward_1[500+i]+average_reward_1[600+i]+average_reward_1[700+i]+average_reward_1[800+i]+average_reward_1[900+i])/10\n",
    "    smooth1_clip.append(avg)\n",
    "smooth2_clip = []\n",
    "average_reward_2 = average_reward_2_clip\n",
    "for i in range(len(average_reward_2_clip)-900):\n",
    "    avg = (average_reward_2[i]+average_reward_2[100+i]+average_reward_2[200+i]+average_reward_2[300+i]+average_reward_2[400+i]+average_reward_2[500+i]+average_reward_2[600+i]+average_reward_2[700+i]+average_reward_2[800+i]+average_reward_2[900+i])/10\n",
    "    smooth2_clip.append(avg)\n",
    "\n",
    "smooth1_vanilla = []\n",
    "average_reward_1 = average_reward_1_vanilla\n",
    "for i in range(len(average_reward_1_vanilla)-900):\n",
    "    avg = (average_reward_1[i]+average_reward_1[100+i]+average_reward_1[200+i]+average_reward_1[300+i]+average_reward_1[400+i]+average_reward_1[500+i]+average_reward_1[600+i]+average_reward_1[700+i]+average_reward_1[800+i]+average_reward_1[900+i])/10\n",
    "    smooth1_vanilla.append(avg)\n",
    "smooth2_vanilla = []\n",
    "average_reward_2 = average_reward_2_vanilla\n",
    "for i in range(len(average_reward_2_vanilla)-900):\n",
    "    avg = (average_reward_2[i]+average_reward_2[100+i]+average_reward_2[200+i]+average_reward_2[300+i]+average_reward_2[400+i]+average_reward_2[500+i]+average_reward_2[600+i]+average_reward_2[700+i]+average_reward_2[800+i]+average_reward_2[900+i])/10\n",
    "    smooth2_vanilla.append(avg)\n",
    "\n",
    "smooth1_bert = []\n",
    "average_reward_1 = average_reward_1_bert\n",
    "for i in range(len(average_reward_1_bert)-900):\n",
    "    avg = (average_reward_1[i]+average_reward_1[100+i]+average_reward_1[200+i]+average_reward_1[300+i]+average_reward_1[400+i]+average_reward_1[500+i]+average_reward_1[600+i]+average_reward_1[700+i]+average_reward_1[800+i]+average_reward_1[900+i])/10\n",
    "    smooth1_bert.append(avg)\n",
    "smooth2_bert = []\n",
    "average_reward_2 = average_reward_2_bert\n",
    "for i in range(len(average_reward_2_bert)-900):\n",
    "    avg = (average_reward_2[i]+average_reward_2[100+i]+average_reward_2[200+i]+average_reward_2[300+i]+average_reward_2[400+i]+average_reward_2[500+i]+average_reward_2[600+i]+average_reward_2[700+i]+average_reward_2[800+i]+average_reward_2[900+i])/10\n",
    "    smooth2_bert.append(avg)\n",
    "# smooth3 = []\n",
    "# smooth3 = []\n",
    "# for i in range(len(average_reward_3)-900):\n",
    "#     avg = (average_reward_3[i]+average_reward_3[100+i]+average_reward_3[200+i]+average_reward_3[300+i]+average_reward_3[400+i]+average_reward_3[500+i]+average_reward_3[600+i]+average_reward_3[700+i]+average_reward_3[800+i]+average_reward_3[900+i])/10\n",
    "#     smooth3.append(avg)      \n"
   ]
  },
  {
   "cell_type": "code",
   "execution_count": 21,
   "metadata": {},
   "outputs": [
    {
     "data": {
      "image/png": "[encoded data removed]",
      "text/plain": [
       "<Figure size 432x288 with 1 Axes>"
      ]
     },
     "metadata": {
      "needs_background": "light"
     },
     "output_type": "display_data"
    }
   ],
   "source": [
    "import matplotlib.pyplot as plt\n",
    "import numpy as np\n",
    "\n",
    "# Example learning curves (replace these with your actual data)\n",
    "epochs_onehot = np.array([i for i in range(1,140731)])\n",
    "learning_curve1 = np.array(smooth1_onehot[:140730])\n",
    "learning_curve2 = np.array(smooth2_onehot[:140730])\n",
    "\n",
    "epochs_clip = np.array([i for i in range(1,74441)])\n",
    "learning_curve3 = np.array(smooth1_clip[:74440])\n",
    "learning_curve4 = np.array(smooth2_clip[:74440])\n",
    "\n",
    "epochs_vanilla = np.array([i for i in range(1,206401)])\n",
    "learning_curve5 = np.array(smooth1_vanilla[:206400])\n",
    "learning_curve6 = np.array(smooth2_vanilla[:206400])\n",
    "\n",
    "epochs_bert = np.array([i for i in range(1,195201)])\n",
    "learning_curve7 = np.array(smooth1_bert[:195200])\n",
    "learning_curve8 = np.array(smooth2_bert[:195200])\n",
    "\n",
    "# Calculate mean and standard deviation across the learning curves\n",
    "mean_curve_onehot = np.mean([learning_curve1, learning_curve2], axis=0)\n",
    "std_curve_onehot = np.std([learning_curve1, learning_curve2], axis=0)\n",
    "\n",
    "mean_curve_clip = np.mean([learning_curve3, learning_curve4], axis=0)\n",
    "std_curve_clip = np.std([learning_curve3, learning_curve4], axis=0)\n",
    "\n",
    "mean_curve_vanilla = np.mean([learning_curve5, learning_curve6], axis=0)\n",
    "std_curve_vanilla = np.std([learning_curve5, learning_curve6], axis=0)\n",
    "\n",
    "mean_curve_bert = np.mean([learning_curve7, learning_curve8], axis=0)\n",
    "std_curve_bert = np.std([learning_curve7, learning_curve8], axis=0)\n",
    "\n",
    "\n",
    "# Create the plot\n",
    "plt.plot(epochs_onehot, mean_curve_onehot, color='orange',label='One-hot')\n",
    "# plt.fill_between(epochs_onehot, mean_curve_onehot - std_curve_onehot, mean_curve_onehot + std_curve_onehot, color='black', alpha=0.2,label='One-hot')\n",
    "\n",
    "plt.plot(epochs_vanilla, mean_curve_vanilla, color='blue',label='Vanilla')\n",
    "# plt.fill_between(epochs_vanilla, mean_curve_vanilla - std_curve_vanilla, mean_curve_vanilla + std_curve_vanilla, color='blue', alpha=0.2,label='Vanilla')\n",
    "\n",
    "plt.plot(epochs_bert, mean_curve_bert, color='green',label='BERT')\n",
    "# plt.fill_between(epochs_vanilla, mean_curve_vanilla - std_curve_vanilla, mean_curve_vanilla + std_curve_vanilla, color='blue', alpha=0.2,label='Vanilla')\n",
    "\n",
    "plt.plot(epochs_clip, mean_curve_clip, color='red',label='CLIP')\n",
    "# plt.fill_between(epochs_clip, mean_curve_clip - std_curve_clip, mean_curve_clip + std_curve_clip, color='red', alpha=0.2,label='CLIP')\n",
    "\n",
    "plt.ylim(bottom=-30)\n",
    "# Add individual learning curves\n",
    "# plt.plot(epochs, learning_curve1, label='Learning Curve 1', color='orange')\n",
    "# plt.plot(epochs, learning_curve2, label='Learning Curve 2', color='green')\n",
    "# plt.plot(epochs, learning_curve3, label='Learning Curve 3', color='red')\n",
    "plt.axhline(y=8.8, color='black', linestyle='--', label='Performance Criterion')\n",
    "plt.xlabel('Training Episodes',fontsize = 10)\n",
    "plt.ylabel('Average Reward',fontsize = 10)  # Replace with the appropriate metric\n",
    "plt.title('Training Combinations',fontsize = 15, fontweight='bold')\n",
    "plt.legend()\n",
    "\n",
    "plt.show()\n"
   ]
  },
  {
   "cell_type": "code",
   "execution_count": 22,
   "metadata": {},
   "outputs": [],
   "source": [
    "import json\n",
    "\n",
    "# Load the JSON data from the text file\n",
    "file_path = 'result/S2clip_final_4_test.txt'   \n",
    "with open(file_path, 'r') as file:\n",
    "    data = json.load(file)\n",
    "\n",
    "# Extract lists from the loaded data\n",
    "average_reward_2 = data['all_average_reward']\n",
    "# episode_reward = data['all_episode_reward']\n",
    "# actor_loss = data['all_actor_loss']\n",
    "# critic_loss = data['all_critic_loss']\n",
    "# entropy_loss = data['all_entropy_loss']\n",
    "# total_loss = data['all_total_loss']\n",
    "# steps = data['all_steps']\n",
    "# interval = 100\n",
    "# max(average_reward_2)"
   ]
  },
  {
   "cell_type": "code",
   "execution_count": 23,
   "metadata": {},
   "outputs": [
    {
     "data": {
      "text/plain": [
       "8.9"
      ]
     },
     "execution_count": 23,
     "metadata": {},
     "output_type": "execute_result"
    }
   ],
   "source": [
    "import json\n",
    "\n",
    "# Load the JSON data from the text file\n",
    "file_path = 'result/S2clip_final_5_test.txt'   \n",
    "with open(file_path, 'r') as file:\n",
    "    data = json.load(file)\n",
    "\n",
    "# Extract lists from the loaded data\n",
    "average_reward_3 = data['all_average_reward']\n",
    "episode_reward = data['all_episode_reward']\n",
    "actor_loss = data['all_actor_loss']\n",
    "critic_loss = data['all_critic_loss']\n",
    "entropy_loss = data['all_entropy_loss']\n",
    "total_loss = data['all_total_loss']\n",
    "steps = data['all_steps']\n",
    "interval = 100\n",
    "max(average_reward_3)"
   ]
  },
  {
   "cell_type": "code",
   "execution_count": 24,
   "metadata": {},
   "outputs": [],
   "source": [
    "average_reward = average_reward_1[:3600]+ average_reward_2[:54065] + average_reward_3"
   ]
  },
  {
   "cell_type": "code",
   "execution_count": 32,
   "metadata": {},
   "outputs": [
    {
     "name": "stdout",
     "output_type": "stream",
     "text": [
      "11600\n"
     ]
    }
   ],
   "source": [
    "for i in range(len(average_reward_1)):\n",
    "    if average_reward_1[i] >= 9: \n",
    "        print(i)\n",
    "        break"
   ]
  },
  {
   "cell_type": "code",
   "execution_count": 19,
   "metadata": {},
   "outputs": [],
   "source": [
    "import matplotlib.pyplot as plt\n",
    "hit = []\n",
    "for i in range(len(episode_reward)):\n",
    "    if episode_reward[i] > 7:\n",
    "        hit.append(1)\n",
    "    else: hit.append(0)\n",
    "average_accuracy = []\n",
    "for i in range(0, len(hit)-interval):\n",
    "    average = sum(hit[i:i+interval]) /interval\n",
    "    average_accuracy.append(average)\n",
    "# x_axis = range(len(average_accuracy))\n",
    "# plt.plot(x_axis, average_accuracy)\n",
    "# plt.xlabel('Episode')\n",
    "# plt.ylabel('average_accuracy')\n",
    "# plt.title('S0: average_accuracy vs Episode [with reference]')\n",
    "# plt.show()"
   ]
  },
  {
   "cell_type": "code",
   "execution_count": 20,
   "metadata": {},
   "outputs": [],
   "source": [
    "for i in range(len(average_accuracy)):\n",
    "    if average_accuracy[i] >= 0.7: \n",
    "        print(i)\n",
    "        break"
   ]
  },
  {
   "cell_type": "code",
   "execution_count": 28,
   "metadata": {},
   "outputs": [
    {
     "data": {
      "image/png": "[encoded data removed]",
      "text/plain": [
       "<Figure size 432x288 with 1 Axes>"
      ]
     },
     "metadata": {
      "needs_background": "light"
     },
     "output_type": "display_data"
    }
   ],
   "source": [
    "import matplotlib.pyplot as plt\n",
    "# Generate x-axis values as the indices of the list\n",
    "# for i in range(len(average_reward)):\n",
    "#     if average_reward[i]<0:  average_reward[i] = 0 \n",
    "\n",
    "x_axis = range(len(average_reward_1))\n",
    "# Plotting the figure\n",
    "plt.plot(x_axis, average_reward_1)\n",
    "plt.xlabel('Episode')\n",
    "plt.ylabel('average_reward')\n",
    "plt.title('One_hot: S1 -> S2 (test)')\n",
    "plt.show()"
   ]
  },
  {
   "cell_type": "code",
   "execution_count": 3,
   "metadata": {},
   "outputs": [
    {
     "data": {
      "image/png": "[encoded data removed]",
      "text/plain": [
       "<Figure size 432x288 with 1 Axes>"
      ]
     },
     "metadata": {
      "needs_background": "light"
     },
     "output_type": "display_data"
    }
   ],
   "source": [
    "import matplotlib.pyplot as plt\n",
    "# Generate x-axis values as the indices of the list\n",
    "x_axis = range(len(actor_loss)-100)\n",
    "average_loss = []\n",
    "for i in range(0, len(actor_loss)-interval):\n",
    "    average = sum(actor_loss[i:i+interval]) /interval\n",
    "    average_loss.append(average)\n",
    "\n",
    "# Plotting the figure\n",
    "plt.plot(x_axis, average_loss)\n",
    "plt.xlabel('Episode')\n",
    "plt.ylabel('actor_loss')\n",
    "plt.title('S0: actor_loss vs Episode [with reference]')\n",
    "plt.show()"
   ]
  },
  {
   "cell_type": "code",
   "execution_count": 4,
   "metadata": {},
   "outputs": [
    {
     "data": {
      "image/png": "[encoded data removed]",
      "text/plain": [
       "<Figure size 432x288 with 1 Axes>"
      ]
     },
     "metadata": {
      "needs_background": "light"
     },
     "output_type": "display_data"
    }
   ],
   "source": [
    "import matplotlib.pyplot as plt\n",
    "# Generate x-axis values as the indices of the list\n",
    "x_axis = range(len(critic_loss)-100)\n",
    "average_loss = []\n",
    "for i in range(0, len(critic_loss)-interval):\n",
    "    average = sum(critic_loss[i:i+interval]) /interval\n",
    "    average_loss.append(average)\n",
    "\n",
    "# Plotting the figure\n",
    "plt.plot(x_axis, average_loss)\n",
    "plt.xlabel('Episode')\n",
    "plt.ylabel('critic_loss')\n",
    "plt.title('S0: critic_loss vs Episode [with reference]')\n",
    "plt.show()"
   ]
  },
  {
   "cell_type": "code",
   "execution_count": null,
   "metadata": {},
   "outputs": [],
   "source": [
    "import matplotlib.pyplot as plt\n",
    "# Generate x-axis values as the indices of the list\n",
    "x_axis = range(len(entropy_loss)-100)\n",
    "average_loss = []\n",
    "for i in range(0, len(entropy_loss)-interval):\n",
    "    average = sum(entropy_loss[i:i+interval]) /interval\n",
    "    average_loss.append(average)\n",
    "\n",
    "# Plotting the figure\n",
    "plt.plot(x_axis, average_loss)\n",
    "plt.xlabel('Episode')\n",
    "plt.ylabel('entropy_loss')\n",
    "plt.title('S0: entropy_loss vs Episode [with reference]')\n",
    "plt.show()"
   ]
  },
  {
   "cell_type": "code",
   "execution_count": null,
   "metadata": {},
   "outputs": [],
   "source": [
    "import matplotlib.pyplot as plt\n",
    "# Generate x-axis values as the indices of the list\n",
    "x_axis = range(len(total_loss)-100)\n",
    "average_loss = []\n",
    "for i in range(0, len(total_loss)-interval):\n",
    "    average = sum(total_loss[i:i+interval]) /interval\n",
    "    average_loss.append(average)\n",
    "\n",
    "# Plotting the figure\n",
    "plt.plot(x_axis, average_loss)\n",
    "plt.xlabel('Episode')\n",
    "plt.ylabel('total_loss')\n",
    "plt.title('S0: total_loss vs Episode [with reference]')\n",
    "plt.show()"
   ]
  },
  {
   "cell_type": "code",
   "execution_count": null,
   "metadata": {},
   "outputs": [],
   "source": [
    "import matplotlib.pyplot as plt\n",
    "# Generate x-axis values as the indices of the list\n",
    "x_axis = range(len(steps)-100)\n",
    "average_loss = []\n",
    "for i in range(0, len(steps)-interval):\n",
    "    average = sum(steps[i:i+interval]) /interval\n",
    "    average_loss.append(average)\n",
    "\n",
    "# Plotting the figure\n",
    "plt.plot(x_axis, average_loss)\n",
    "plt.xlabel('Episode')\n",
    "plt.ylabel('steps')\n",
    "plt.title('S0: steps vs Episode [with reference]')\n",
    "plt.show()"
   ]
  },
  {
   "attachments": {},
   "cell_type": "markdown",
   "metadata": {},
   "source": [
    "Word"
   ]
  },
  {
   "cell_type": "code",
   "execution_count": 3,
   "metadata": {},
   "outputs": [
    {
     "ename": "FileNotFoundError",
     "evalue": "[Errno 2] No such file or directory: 'C:\\\\Users\\\\linzj\\\\Desktop\\\\result\\\\S2clip_final_3.docx'",
     "output_type": "error",
     "traceback": [
      "\u001b[1;31m---------------------------------------------------------------------------\u001b[0m",
      "\u001b[1;31mFileNotFoundError\u001b[0m                         Traceback (most recent call last)",
      "\u001b[1;32m<ipython-input-3-60447148ca73>\u001b[0m in \u001b[0;36m<module>\u001b[1;34m\u001b[0m\n\u001b[0;32m      3\u001b[0m \u001b[1;33m\u001b[0m\u001b[0m\n\u001b[0;32m      4\u001b[0m \u001b[1;31m# Extract text from the Word file\u001b[0m\u001b[1;33m\u001b[0m\u001b[1;33m\u001b[0m\u001b[1;33m\u001b[0m\u001b[0m\n\u001b[1;32m----> 5\u001b[1;33m \u001b[0mtext\u001b[0m \u001b[1;33m=\u001b[0m \u001b[0mdocx2txt\u001b[0m\u001b[1;33m.\u001b[0m\u001b[0mprocess\u001b[0m\u001b[1;33m(\u001b[0m\u001b[1;34mr'C:\\Users\\linzj\\Desktop\\result\\S2clip_final_3.docx'\u001b[0m\u001b[1;33m)\u001b[0m\u001b[1;33m\u001b[0m\u001b[1;33m\u001b[0m\u001b[0m\n\u001b[0m\u001b[0;32m      6\u001b[0m \u001b[1;33m\u001b[0m\u001b[0m\n\u001b[0;32m      7\u001b[0m \u001b[1;33m\u001b[0m\u001b[0m\n",
      "\u001b[1;32mc:\\Users\\linzj\\anaconda3\\envs\\rl\\lib\\site-packages\\docx2txt\\docx2txt.py\u001b[0m in \u001b[0;36mprocess\u001b[1;34m(docx, img_dir)\u001b[0m\n\u001b[0;32m     74\u001b[0m \u001b[1;33m\u001b[0m\u001b[0m\n\u001b[0;32m     75\u001b[0m     \u001b[1;31m# unzip the docx in memory\u001b[0m\u001b[1;33m\u001b[0m\u001b[1;33m\u001b[0m\u001b[1;33m\u001b[0m\u001b[0m\n\u001b[1;32m---> 76\u001b[1;33m     \u001b[0mzipf\u001b[0m \u001b[1;33m=\u001b[0m \u001b[0mzipfile\u001b[0m\u001b[1;33m.\u001b[0m\u001b[0mZipFile\u001b[0m\u001b[1;33m(\u001b[0m\u001b[0mdocx\u001b[0m\u001b[1;33m)\u001b[0m\u001b[1;33m\u001b[0m\u001b[1;33m\u001b[0m\u001b[0m\n\u001b[0m\u001b[0;32m     77\u001b[0m     \u001b[0mfilelist\u001b[0m \u001b[1;33m=\u001b[0m \u001b[0mzipf\u001b[0m\u001b[1;33m.\u001b[0m\u001b[0mnamelist\u001b[0m\u001b[1;33m(\u001b[0m\u001b[1;33m)\u001b[0m\u001b[1;33m\u001b[0m\u001b[1;33m\u001b[0m\u001b[0m\n\u001b[0;32m     78\u001b[0m \u001b[1;33m\u001b[0m\u001b[0m\n",
      "\u001b[1;32mc:\\Users\\linzj\\anaconda3\\envs\\rl\\lib\\zipfile.py\u001b[0m in \u001b[0;36m__init__\u001b[1;34m(self, file, mode, compression, allowZip64)\u001b[0m\n\u001b[0;32m   1111\u001b[0m             \u001b[1;32mwhile\u001b[0m \u001b[1;32mTrue\u001b[0m\u001b[1;33m:\u001b[0m\u001b[1;33m\u001b[0m\u001b[1;33m\u001b[0m\u001b[0m\n\u001b[0;32m   1112\u001b[0m                 \u001b[1;32mtry\u001b[0m\u001b[1;33m:\u001b[0m\u001b[1;33m\u001b[0m\u001b[1;33m\u001b[0m\u001b[0m\n\u001b[1;32m-> 1113\u001b[1;33m                     \u001b[0mself\u001b[0m\u001b[1;33m.\u001b[0m\u001b[0mfp\u001b[0m \u001b[1;33m=\u001b[0m \u001b[0mio\u001b[0m\u001b[1;33m.\u001b[0m\u001b[0mopen\u001b[0m\u001b[1;33m(\u001b[0m\u001b[0mfile\u001b[0m\u001b[1;33m,\u001b[0m \u001b[0mfilemode\u001b[0m\u001b[1;33m)\u001b[0m\u001b[1;33m\u001b[0m\u001b[1;33m\u001b[0m\u001b[0m\n\u001b[0m\u001b[0;32m   1114\u001b[0m                 \u001b[1;32mexcept\u001b[0m \u001b[0mOSError\u001b[0m\u001b[1;33m:\u001b[0m\u001b[1;33m\u001b[0m\u001b[1;33m\u001b[0m\u001b[0m\n\u001b[0;32m   1115\u001b[0m                     \u001b[1;32mif\u001b[0m \u001b[0mfilemode\u001b[0m \u001b[1;32min\u001b[0m \u001b[0mmodeDict\u001b[0m\u001b[1;33m:\u001b[0m\u001b[1;33m\u001b[0m\u001b[1;33m\u001b[0m\u001b[0m\n",
      "\u001b[1;31mFileNotFoundError\u001b[0m: [Errno 2] No such file or directory: 'C:\\\\Users\\\\linzj\\\\Desktop\\\\result\\\\S2clip_final_3.docx'"
     ]
    }
   ],
   "source": [
    "import docx2txt\n",
    "import re\n",
    "\n",
    "# Extract text from the Word file\n",
    "text = docx2txt.process(r'C:\\Users\\linzj\\Desktop\\result\\S2clip_final_3.docx')\n",
    "\n",
    "\n",
    "# Extract number after \"Average Reward\"\n",
    "average_rewards = re.findall(r'Average Reward (-?\\d+\\.?\\d*)', text)\n",
    "average_rewards = [float(num) for num in average_rewards]\n",
    "\n",
    "print(max(average_rewards))\n",
    "\n",
    "# # Extract number after \"Actor Loss\"\n",
    "# episode_reward = re.findall(r'Episode Reward: (-?\\d+\\.?\\d*)', text)\n",
    "# episode_reward = [float(num) for num in episode_reward]\n",
    "\n",
    "# # Extract number after \"Actor Loss\"\n",
    "# actor_loss = re.findall(r'Actor loss: (-?\\d+\\.?\\d*)', text)\n",
    "# actor_loss = [float(num) for num in actor_loss]\n",
    "\n",
    "# # Extract number after \"Critic Loss\"\n",
    "# critic_loss = re.findall(r'Critic loss: (-?\\d+\\.?\\d*)', text)\n",
    "# critic_loss = [float(num) for num in critic_loss]\n",
    "\n",
    "# # Extract number after \"Entropy Loss\"\n",
    "# entropy_loss = re.findall(r'Entropy loss: (-?\\d+\\.?\\d*)', text)\n",
    "# entropy_loss = [float(num) for num in entropy_loss]\n",
    "\n",
    "# # Extract number after \"Total Loss\"\n",
    "# total_loss = re.findall(r'Total Loss: (-?\\d+\\.?\\d*)', text)\n",
    "# total_loss = [float(num) for num in total_loss]\n",
    "\n",
    "# # Extract number after \"Total Step\"\n",
    "# total_steps = re.findall(r'Total Steps: (-?\\d+\\.?\\d*)', text)\n",
    "# total_steps = [float(num) for num in total_steps]"
   ]
  },
  {
   "cell_type": "code",
   "execution_count": 32,
   "metadata": {},
   "outputs": [
    {
     "ename": "NameError",
     "evalue": "name 'average_reward_test' is not defined",
     "output_type": "error",
     "traceback": [
      "\u001b[1;31m---------------------------------------------------------------------------\u001b[0m",
      "\u001b[1;31mNameError\u001b[0m                                 Traceback (most recent call last)",
      "\u001b[1;32m<ipython-input-32-d47d121f3b06>\u001b[0m in \u001b[0;36m<module>\u001b[1;34m\u001b[0m\n\u001b[0;32m      3\u001b[0m     \u001b[1;32mif\u001b[0m \u001b[1;33m(\u001b[0m\u001b[1;33m(\u001b[0m\u001b[0mi\u001b[0m\u001b[1;33m+\u001b[0m\u001b[1;36m1\u001b[0m\u001b[1;33m)\u001b[0m\u001b[1;33m//\u001b[0m\u001b[1;36m100\u001b[0m\u001b[1;33m)\u001b[0m \u001b[1;33m%\u001b[0m \u001b[1;36m2\u001b[0m\u001b[1;33m:\u001b[0m \u001b[0mepisode_reward_test\u001b[0m\u001b[1;33m.\u001b[0m\u001b[0mappend\u001b[0m\u001b[1;33m(\u001b[0m\u001b[0mepisode_reward\u001b[0m\u001b[1;33m[\u001b[0m\u001b[0mi\u001b[0m\u001b[1;33m]\u001b[0m\u001b[1;33m)\u001b[0m\u001b[1;33m\u001b[0m\u001b[1;33m\u001b[0m\u001b[0m\n\u001b[0;32m      4\u001b[0m     \u001b[1;32melse\u001b[0m\u001b[1;33m:\u001b[0m \u001b[0mepisode_reward_train\u001b[0m\u001b[1;33m.\u001b[0m\u001b[0mappend\u001b[0m\u001b[1;33m(\u001b[0m\u001b[0mepisode_reward\u001b[0m\u001b[1;33m[\u001b[0m\u001b[0mi\u001b[0m\u001b[1;33m]\u001b[0m\u001b[1;33m)\u001b[0m\u001b[1;33m\u001b[0m\u001b[1;33m\u001b[0m\u001b[0m\n\u001b[1;32m----> 5\u001b[1;33m \u001b[0mmax\u001b[0m\u001b[1;33m(\u001b[0m\u001b[0maverage_reward_test\u001b[0m\u001b[1;33m)\u001b[0m\u001b[1;33m\u001b[0m\u001b[1;33m\u001b[0m\u001b[0m\n\u001b[0m",
      "\u001b[1;31mNameError\u001b[0m: name 'average_reward_test' is not defined"
     ]
    }
   ],
   "source": [
    "episode_reward_train,episode_reward_test = [],[]\n",
    "for i in range(1,len(episode_reward)):\n",
    "    if ((i+1)//100) % 2: episode_reward_test.append(episode_reward[i])\n",
    "    else: episode_reward_train.append(episode_reward[i])\n",
    "max(average_reward_test)"
   ]
  },
  {
   "cell_type": "code",
   "execution_count": 23,
   "metadata": {},
   "outputs": [
    {
     "data": {
      "text/plain": [
       "0.62"
      ]
     },
     "execution_count": 23,
     "metadata": {},
     "output_type": "execute_result"
    }
   ],
   "source": [
    "import matplotlib.pyplot as plt\n",
    "hit = []\n",
    "for i in range(len(episode_reward_train)):\n",
    "    if episode_reward_train[i] > 7:\n",
    "        hit.append(1)\n",
    "    else: hit.append(0)\n",
    "average_accuracy = []\n",
    "for i in range(0, len(hit)-100):\n",
    "    average = sum(hit[i:i+100]) /100\n",
    "    average_accuracy.append(average)\n",
    "max(average_accuracy)"
   ]
  },
  {
   "cell_type": "code",
   "execution_count": 22,
   "metadata": {},
   "outputs": [],
   "source": [
    "for i in range(len(average_accuracy)):\n",
    "    if average_accuracy[i] >= 0.7: \n",
    "        print(i)\n",
    "        break"
   ]
  },
  {
   "cell_type": "code",
   "execution_count": 8,
   "metadata": {},
   "outputs": [
    {
     "data": {
      "text/plain": [
       "4.41"
      ]
     },
     "execution_count": 8,
     "metadata": {},
     "output_type": "execute_result"
    }
   ],
   "source": [
    "average_rewards_train,average_rewards_test = [],[]\n",
    "for i in range(1,len(average_rewards)):\n",
    "    if ((i-1)//100) % 2: \n",
    "        average_rewards_test.append(average_rewards[i])\n",
    "    else: \n",
    "        average_rewards_train.append(average_rewards[i])\n",
    "max(average_rewards_test)"
   ]
  },
  {
   "cell_type": "code",
   "execution_count": 9,
   "metadata": {},
   "outputs": [],
   "source": [
    "import json\n",
    "ALG_NAME = 'S2te_final'\n",
    "ENV_ID = 10\n",
    "data = {\n",
    "            'all_average_reward': average_rewards_train,\n",
    "            \n",
    "        } \n",
    "file_path = f'result/{ALG_NAME}_{ENV_ID}_train.txt'\n",
    "with open(file_path, 'w') as file:\n",
    "    json.dump(data, file)\n",
    "\n",
    "test_data = {\n",
    "            'all_average_reward': average_rewards_test,\n",
    "            \n",
    "        } \n",
    "file_path = f'result/{ALG_NAME}_{ENV_ID}_test.txt'\n",
    "with open(file_path, 'w') as file:\n",
    "    json.dump(test_data, file)"
   ]
  },
  {
   "cell_type": "code",
   "execution_count": 42,
   "metadata": {},
   "outputs": [
    {
     "name": "stdout",
     "output_type": "stream",
     "text": [
      "43602\n"
     ]
    }
   ],
   "source": [
    "for i in range(len(average_rewards_train)):\n",
    "    if average_rewards_train[i] >=9: \n",
    "        print(i)\n",
    "        break"
   ]
  },
  {
   "cell_type": "code",
   "execution_count": 14,
   "metadata": {},
   "outputs": [
    {
     "data": {
      "image/png": "[encoded data removed]",
      "text/plain": [
       "<Figure size 432x288 with 1 Axes>"
      ]
     },
     "metadata": {
      "needs_background": "light"
     },
     "output_type": "display_data"
    }
   ],
   "source": [
    "import matplotlib.pyplot as plt\n",
    "\n",
    "# Sample data\n",
    "\n",
    "\n",
    "# Generate x-axis values as the indices of the list\n",
    "x_axis = range(len(average_rewards_test))\n",
    "\n",
    "# Plotting the figure\n",
    "plt.plot(x_axis, average_rewards_test)\n",
    "plt.xlabel('Episode')\n",
    "plt.ylabel('Rewards')\n",
    "plt.title('S2 -> S1: Train')\n",
    "plt.show()"
   ]
  },
  {
   "cell_type": "code",
   "execution_count": null,
   "metadata": {},
   "outputs": [],
   "source": [
    "import matplotlib.pyplot as plt\n",
    "\n",
    "# Sample data\n",
    "\n",
    "\n",
    "# Generate x-axis values as the indices of the list\n",
    "x_axis = range(len(actor_loss)-100)\n",
    "interval = 100  # Interval for averaging\n",
    "\n",
    "average_loss = []\n",
    "for i in range(0, len(actor_loss)-interval):\n",
    "    average = sum(actor_loss[i:i+interval]) /interval\n",
    "    average_loss.append(average)\n",
    "\n",
    "# Plotting the figure\n",
    "plt.plot(x_axis, average_loss)\n",
    "plt.xlabel('Episode')\n",
    "plt.ylabel('Actor Loss')\n",
    "plt.title('S0: Actor Loss vs Episode [with reference]')\n",
    "plt.show()"
   ]
  },
  {
   "cell_type": "code",
   "execution_count": null,
   "metadata": {},
   "outputs": [],
   "source": [
    "import matplotlib.pyplot as plt\n",
    "\n",
    "# Sample data\n",
    "\n",
    "\n",
    "# Generate x-axis values as the indices of the list\n",
    "x_axis = range(len(critic_loss)-100)\n",
    "interval = 100  # Interval for averaging\n",
    "\n",
    "average_loss = []\n",
    "for i in range(0, len(critic_loss)-interval):\n",
    "    average = sum(critic_loss[i:i+interval]) /interval\n",
    "    average_loss.append(average)\n",
    "\n",
    "# Plotting the figure\n",
    "plt.plot(x_axis, average_loss)\n",
    "plt.xlabel('Episode')\n",
    "plt.ylabel('Critic Loss')\n",
    "plt.title('S0: Critic Loss vs Episode [with reference]')\n",
    "plt.show()"
   ]
  },
  {
   "cell_type": "code",
   "execution_count": null,
   "metadata": {},
   "outputs": [],
   "source": [
    "import matplotlib.pyplot as plt\n",
    "\n",
    "# Sample data\n",
    "\n",
    "\n",
    "# Generate x-axis values as the indices of the list\n",
    "x_axis = range(len(entropy_loss)-100)\n",
    "interval = 100  # Interval for averaging\n",
    "\n",
    "average_loss = []\n",
    "for i in range(0, len(entropy_loss)-interval):\n",
    "    average = sum(entropy_loss[i:i+interval]) /interval\n",
    "    average_loss.append(average)\n",
    "\n",
    "# Plotting the figure\n",
    "plt.plot(x_axis, average_loss)\n",
    "plt.xlabel('Episode')\n",
    "plt.ylabel('Entropy Loss')\n",
    "plt.title('S0: Entropy Loss vs Episode [with reference]')\n",
    "plt.show()"
   ]
  },
  {
   "cell_type": "code",
   "execution_count": null,
   "metadata": {},
   "outputs": [],
   "source": [
    "import matplotlib.pyplot as plt\n",
    "\n",
    "# Sample data\n",
    "\n",
    "\n",
    "# Generate x-axis values as the indices of the list\n",
    "x_axis = range(len(total_loss)-100)\n",
    "interval = 100  # Interval for averaging\n",
    "\n",
    "average_loss = []\n",
    "for i in range(0, len(total_loss)-interval):\n",
    "    average = sum(total_loss[i:i+interval]) /interval\n",
    "    average_loss.append(average)\n",
    "\n",
    "# Plotting the figure\n",
    "plt.plot(x_axis, average_loss)\n",
    "plt.xlabel('Episode')\n",
    "plt.ylabel('Total Loss')\n",
    "plt.title('S0: Total Loss vs Episode [with reference]')\n",
    "plt.show()"
   ]
  },
  {
   "cell_type": "code",
   "execution_count": null,
   "metadata": {},
   "outputs": [],
   "source": [
    "import matplotlib.pyplot as plt\n",
    "\n",
    "# Sample data\n",
    "\n",
    "\n",
    "# Generate x-axis values as the indices of the list\n",
    "x_axis = range(len(total_steps)-100)\n",
    "interval = 100  # Interval for averaging\n",
    "\n",
    "average_step = []\n",
    "for i in range(0, len(total_steps)-interval):\n",
    "    average = sum(total_steps[i:i+interval]) /interval\n",
    "    average_step.append(average)\n",
    "\n",
    "# Plotting the figure\n",
    "plt.plot(x_axis, average_step)\n",
    "plt.xlabel('Episode')\n",
    "plt.ylabel('Steps')\n",
    "plt.title('S0: Steps vs Episode [with reference]')\n",
    "plt.show()"
   ]
  },
  {
   "cell_type": "code",
   "execution_count": null,
   "metadata": {},
   "outputs": [],
   "source": [
    "import ast\n",
    "file_path = r'C:\\Users\\linzj\\Desktop\\S0_withoutreference_290623.txt'\n",
    "file = open(file_path, 'r')\n",
    "\n",
    "# Read the contents of the file\n",
    "content = file.read()\n",
    "average_rewards = ast.literal_eval(content)"
   ]
  },
  {
   "cell_type": "code",
   "execution_count": 11,
   "metadata": {},
   "outputs": [
    {
     "name": "stdout",
     "output_type": "stream",
     "text": [
      "torch.Size([1, 77])\n",
      "torch.Size([1, 77, 512])\n",
      "torch.Size([77])\n",
      "torch.Size([128])\n"
     ]
    }
   ],
   "source": [
    "import re\n",
    "import open_clip\n",
    "import torch\n",
    "import torch.nn as nn\n",
    "from torch.utils.data import DataLoader, Dataset\n",
    "from torch.nn.utils.rnn import pad_sequence\n",
    "from itertools import product\n",
    "import torch.nn.functional as F\n",
    "embedding_dim = 128\n",
    "\n",
    "\n",
    "class TextEncoder(nn.Module): \n",
    "    def __init__(self,embedding_dim):\n",
    "        super(TextEncoder, self).__init__()\n",
    "\n",
    "        self.encoded = nn.Embedding(49408,512)\n",
    "        self.linear = nn.Linear(77,embedding_dim)\n",
    "\n",
    "    def forward(self, x):\n",
    "        print(x.size())       \n",
    "        encoded = self.encoded(x)\n",
    "        print(encoded.size())\n",
    "        encoded = nn.AvgPool1d(kernel_size=encoded.size(-1))(encoded).squeeze()\n",
    "        print(encoded.size())\n",
    "        encoded = self.linear(encoded)\n",
    "        print(encoded.size())\n",
    "        return encoded\n",
    "    \n",
    "input_string = \"Give me the blue prism, please!\"\n",
    "\n",
    "\n",
    "tokenizer = open_clip.get_tokenizer('ViT-B-32')\n",
    "    \n",
    "# Create the text encoder model\n",
    "text_encoder = TextEncoder(embedding_dim)  # Use 'len(vocab)' to get the vocab_size\n",
    "sequence = tokenizer(input_string) # Tokenize the input string\n",
    "# sequence = F.normalize(sequence)\n",
    "# sequence /= sequence.norm(dim=-1, keepdim=True)\n",
    "# print(f'Normalized sequence: {sequence}')\n",
    "\n",
    "encoded_tensor = text_encoder(sequence)"
   ]
  }
 ],
 "metadata": {
  "kernelspec": {
   "display_name": "rl",
   "language": "python",
   "name": "python3"
  },
  "language_info": {
   "codemirror_mode": {
    "name": "ipython",
    "version": 3
   },
   "file_extension": ".py",
   "mimetype": "text/x-python",
   "name": "python",
   "nbconvert_exporter": "python",
   "pygments_lexer": "ipython3",
   "version": "3.6.13"
  },
  "orig_nbformat": 4
 },
 "nbformat": 4,
 "nbformat_minor": 2
}
