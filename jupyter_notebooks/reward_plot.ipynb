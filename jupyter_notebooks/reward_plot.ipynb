{
 "cells": [
  {
   "cell_type": "code",
   "execution_count": 10,
   "metadata": {},
   "outputs": [
    {
     "data": {
      "text/plain": [
       "8.34"
      ]
     },
     "execution_count": 10,
     "metadata": {},
     "output_type": "execute_result"
    }
   ],
   "source": [
    "import json\n",
    "\n",
    "# Load the JSON data from the text file\n",
    "file_path = r'C:/Users/linzj/Desktop/result/S2bert_1_train.txt'   \n",
    "with open(file_path, 'r') as file:\n",
    "    data = json.load(file)\n",
    "\n",
    "# Extract lists from the loaded data\n",
    "average_reward_1 = data['all_average_reward']\n",
    "# episode_reward = data['all_episode_reward']\n",
    "# actor_loss = data['all_actor_loss']\n",
    "# critic_loss = data['all_critic_loss']\n",
    "# entropy_loss = data['all_entropy_loss']\n",
    "# total_loss = data['all_total_loss']\n",
    "# steps = data['all_steps']\n",
    "interval = 100\n",
    "max(average_reward_1)"
   ]
  },
  {
   "cell_type": "code",
   "execution_count": 11,
   "metadata": {},
   "outputs": [
    {
     "data": {
      "text/plain": [
       "8.77"
      ]
     },
     "execution_count": 11,
     "metadata": {},
     "output_type": "execute_result"
    }
   ],
   "source": [
    "import json\n",
    "\n",
    "# Load the JSON data from the text file\n",
    "file_path = r'C:/Users/linzj/Desktop/result/S2bert_2_train.txt'   \n",
    "with open(file_path, 'r') as file:\n",
    "    data = json.load(file)\n",
    "\n",
    "# Extract lists from the loaded data\n",
    "average_reward_2 = data['all_average_reward']\n",
    "# episode_reward = data['all_episode_reward']\n",
    "# actor_loss = data['all_actor_loss']\n",
    "# critic_loss = data['all_critic_loss']\n",
    "# entropy_loss = data['all_entropy_loss']\n",
    "# total_loss = data['all_total_loss']\n",
    "# steps = data['all_steps']\n",
    "# interval = 100\n",
    "max(average_reward_2)"
   ]
  },
  {
   "cell_type": "code",
   "execution_count": 15,
   "metadata": {},
   "outputs": [
    {
     "data": {
      "text/plain": [
       "8.53"
      ]
     },
     "execution_count": 15,
     "metadata": {},
     "output_type": "execute_result"
    }
   ],
   "source": [
    "import json\n",
    "\n",
    "# Load the JSON data from the text file\n",
    "file_path = 'result/S2bert_final_3_test.txt'   \n",
    "with open(file_path, 'r') as file:\n",
    "    data = json.load(file)\n",
    "\n",
    "# Extract lists from the loaded data\n",
    "average_reward_3 = data['all_average_reward']\n",
    "episode_reward = data['all_episode_reward']\n",
    "actor_loss = data['all_actor_loss']\n",
    "critic_loss = data['all_critic_loss']\n",
    "entropy_loss = data['all_entropy_loss']\n",
    "total_loss = data['all_total_loss']\n",
    "steps = data['all_steps']\n",
    "interval = 100\n",
    "max(average_reward_3)"
   ]
  },
  {
   "cell_type": "code",
   "execution_count": 16,
   "metadata": {},
   "outputs": [
    {
     "data": {
      "text/plain": [
       "9.01"
      ]
     },
     "execution_count": 16,
     "metadata": {},
     "output_type": "execute_result"
    }
   ],
   "source": [
    "import json\n",
    "\n",
    "# Load the JSON data from the text file\n",
    "file_path = 'result/S2bert_final_4_test.txt'   \n",
    "with open(file_path, 'r') as file:\n",
    "    data = json.load(file)\n",
    "\n",
    "# Extract lists from the loaded data\n",
    "average_reward_4 = data['all_average_reward']\n",
    "# episode_reward = data['all_episode_reward']\n",
    "# actor_loss = data['all_actor_loss']\n",
    "# critic_loss = data['all_critic_loss']\n",
    "# entropy_loss = data['all_entropy_loss']\n",
    "# total_loss = data['all_total_loss']\n",
    "# steps = data['all_steps']\n",
    "interval = 100\n",
    "max(average_reward_4)"
   ]
  },
  {
   "cell_type": "code",
   "execution_count": 13,
   "metadata": {},
   "outputs": [
    {
     "data": {
      "text/plain": [
       "147417"
      ]
     },
     "execution_count": 13,
     "metadata": {},
     "output_type": "execute_result"
    }
   ],
   "source": []
  },
  {
   "cell_type": "code",
   "execution_count": 9,
   "metadata": {},
   "outputs": [
    {
     "name": "stdout",
     "output_type": "stream",
     "text": [
      "126917\n"
     ]
    }
   ],
   "source": [
    "for i in range(len(average_reward)):\n",
    "    if average_reward[i] >= 9: \n",
    "        print(i)\n",
    "        break"
   ]
  },
  {
   "cell_type": "code",
   "execution_count": 12,
   "metadata": {},
   "outputs": [
    {
     "ename": "NameError",
     "evalue": "name 'episode_reward' is not defined",
     "output_type": "error",
     "traceback": [
      "\u001b[1;31m---------------------------------------------------------------------------\u001b[0m",
      "\u001b[1;31mNameError\u001b[0m                                 Traceback (most recent call last)",
      "\u001b[1;32m<ipython-input-12-56de384a9e26>\u001b[0m in \u001b[0;36m<module>\u001b[1;34m\u001b[0m\n\u001b[0;32m      1\u001b[0m \u001b[1;32mimport\u001b[0m \u001b[0mmatplotlib\u001b[0m\u001b[1;33m.\u001b[0m\u001b[0mpyplot\u001b[0m \u001b[1;32mas\u001b[0m \u001b[0mplt\u001b[0m\u001b[1;33m\u001b[0m\u001b[1;33m\u001b[0m\u001b[0m\n\u001b[0;32m      2\u001b[0m \u001b[0mhit\u001b[0m \u001b[1;33m=\u001b[0m \u001b[1;33m[\u001b[0m\u001b[1;33m]\u001b[0m\u001b[1;33m\u001b[0m\u001b[1;33m\u001b[0m\u001b[0m\n\u001b[1;32m----> 3\u001b[1;33m \u001b[1;32mfor\u001b[0m \u001b[0mi\u001b[0m \u001b[1;32min\u001b[0m \u001b[0mrange\u001b[0m\u001b[1;33m(\u001b[0m\u001b[0mlen\u001b[0m\u001b[1;33m(\u001b[0m\u001b[0mepisode_reward\u001b[0m\u001b[1;33m)\u001b[0m\u001b[1;33m)\u001b[0m\u001b[1;33m:\u001b[0m\u001b[1;33m\u001b[0m\u001b[1;33m\u001b[0m\u001b[0m\n\u001b[0m\u001b[0;32m      4\u001b[0m     \u001b[1;32mif\u001b[0m \u001b[0mepisode_reward\u001b[0m\u001b[1;33m[\u001b[0m\u001b[0mi\u001b[0m\u001b[1;33m]\u001b[0m \u001b[1;33m>\u001b[0m \u001b[1;36m7\u001b[0m\u001b[1;33m:\u001b[0m\u001b[1;33m\u001b[0m\u001b[1;33m\u001b[0m\u001b[0m\n\u001b[0;32m      5\u001b[0m         \u001b[0mhit\u001b[0m\u001b[1;33m.\u001b[0m\u001b[0mappend\u001b[0m\u001b[1;33m(\u001b[0m\u001b[1;36m1\u001b[0m\u001b[1;33m)\u001b[0m\u001b[1;33m\u001b[0m\u001b[1;33m\u001b[0m\u001b[0m\n",
      "\u001b[1;31mNameError\u001b[0m: name 'episode_reward' is not defined"
     ]
    }
   ],
   "source": [
    "import matplotlib.pyplot as plt\n",
    "hit = []\n",
    "for i in range(len(episode_reward)):\n",
    "    if episode_reward[i] > 7:\n",
    "        hit.append(1)\n",
    "    else: hit.append(0)\n",
    "average_accuracy = []\n",
    "for i in range(0, len(hit)-interval):\n",
    "    average = sum(hit[i:i+interval]) /interval\n",
    "    average_accuracy.append(average)\n",
    "# x_axis = range(len(average_accuracy))\n",
    "# plt.plot(x_axis, average_accuracy)\n",
    "# plt.xlabel('Episode')\n",
    "# plt.ylabel('average_accuracy')\n",
    "# plt.title('S0: average_accuracy vs Episode [with reference]')\n",
    "# plt.show()"
   ]
  },
  {
   "cell_type": "code",
   "execution_count": 20,
   "metadata": {},
   "outputs": [],
   "source": [
    "for i in range(len(average_accuracy)):\n",
    "    if average_accuracy[i] >= 0.7: \n",
    "        print(i)\n",
    "        break"
   ]
  },
  {
   "cell_type": "code",
   "execution_count": 13,
   "metadata": {},
   "outputs": [
    {
     "ename": "NameError",
     "evalue": "name 'average_reward_1' is not defined",
     "output_type": "error",
     "traceback": [
      "\u001b[1;31m---------------------------------------------------------------------------\u001b[0m",
      "\u001b[1;31mNameError\u001b[0m                                 Traceback (most recent call last)",
      "\u001b[1;32m<ipython-input-13-204cc19cae29>\u001b[0m in \u001b[0;36m<module>\u001b[1;34m\u001b[0m\n\u001b[0;32m      4\u001b[0m \u001b[1;31m#     if average_reward[i]<0:  average_reward[i] = 0\u001b[0m\u001b[1;33m\u001b[0m\u001b[1;33m\u001b[0m\u001b[1;33m\u001b[0m\u001b[0m\n\u001b[0;32m      5\u001b[0m \u001b[0msmooth\u001b[0m \u001b[1;33m=\u001b[0m \u001b[1;33m[\u001b[0m\u001b[1;33m]\u001b[0m\u001b[1;33m\u001b[0m\u001b[1;33m\u001b[0m\u001b[0m\n\u001b[1;32m----> 6\u001b[1;33m \u001b[1;32mfor\u001b[0m \u001b[0mi\u001b[0m \u001b[1;32min\u001b[0m \u001b[0mrange\u001b[0m\u001b[1;33m(\u001b[0m\u001b[0mlen\u001b[0m\u001b[1;33m(\u001b[0m\u001b[0maverage_reward_1\u001b[0m\u001b[1;33m)\u001b[0m\u001b[1;33m-\u001b[0m\u001b[1;36m900\u001b[0m\u001b[1;33m)\u001b[0m\u001b[1;33m:\u001b[0m\u001b[1;33m\u001b[0m\u001b[1;33m\u001b[0m\u001b[0m\n\u001b[0m\u001b[0;32m      7\u001b[0m     \u001b[0mavg\u001b[0m \u001b[1;33m=\u001b[0m \u001b[1;33m(\u001b[0m\u001b[0maverage_reward_1\u001b[0m\u001b[1;33m[\u001b[0m\u001b[0mi\u001b[0m\u001b[1;33m]\u001b[0m\u001b[1;33m+\u001b[0m\u001b[0maverage_reward_1\u001b[0m\u001b[1;33m[\u001b[0m\u001b[1;36m100\u001b[0m\u001b[1;33m+\u001b[0m\u001b[0mi\u001b[0m\u001b[1;33m]\u001b[0m\u001b[1;33m+\u001b[0m\u001b[0maverage_reward_1\u001b[0m\u001b[1;33m[\u001b[0m\u001b[1;36m200\u001b[0m\u001b[1;33m+\u001b[0m\u001b[0mi\u001b[0m\u001b[1;33m]\u001b[0m\u001b[1;33m+\u001b[0m\u001b[0maverage_reward_1\u001b[0m\u001b[1;33m[\u001b[0m\u001b[1;36m300\u001b[0m\u001b[1;33m+\u001b[0m\u001b[0mi\u001b[0m\u001b[1;33m]\u001b[0m\u001b[1;33m+\u001b[0m\u001b[0maverage_reward_1\u001b[0m\u001b[1;33m[\u001b[0m\u001b[1;36m400\u001b[0m\u001b[1;33m+\u001b[0m\u001b[0mi\u001b[0m\u001b[1;33m]\u001b[0m\u001b[1;33m+\u001b[0m\u001b[0maverage_reward_1\u001b[0m\u001b[1;33m[\u001b[0m\u001b[1;36m500\u001b[0m\u001b[1;33m+\u001b[0m\u001b[0mi\u001b[0m\u001b[1;33m]\u001b[0m\u001b[1;33m+\u001b[0m\u001b[0maverage_reward_1\u001b[0m\u001b[1;33m[\u001b[0m\u001b[1;36m600\u001b[0m\u001b[1;33m+\u001b[0m\u001b[0mi\u001b[0m\u001b[1;33m]\u001b[0m\u001b[1;33m+\u001b[0m\u001b[0maverage_reward_1\u001b[0m\u001b[1;33m[\u001b[0m\u001b[1;36m700\u001b[0m\u001b[1;33m+\u001b[0m\u001b[0mi\u001b[0m\u001b[1;33m]\u001b[0m\u001b[1;33m+\u001b[0m\u001b[0maverage_reward_1\u001b[0m\u001b[1;33m[\u001b[0m\u001b[1;36m800\u001b[0m\u001b[1;33m+\u001b[0m\u001b[0mi\u001b[0m\u001b[1;33m]\u001b[0m\u001b[1;33m+\u001b[0m\u001b[0maverage_reward_1\u001b[0m\u001b[1;33m[\u001b[0m\u001b[1;36m900\u001b[0m\u001b[1;33m+\u001b[0m\u001b[0mi\u001b[0m\u001b[1;33m]\u001b[0m\u001b[1;33m)\u001b[0m\u001b[1;33m/\u001b[0m\u001b[1;36m10\u001b[0m\u001b[1;33m\u001b[0m\u001b[1;33m\u001b[0m\u001b[0m\n\u001b[0;32m      8\u001b[0m     \u001b[0msmooth\u001b[0m\u001b[1;33m.\u001b[0m\u001b[0mappend\u001b[0m\u001b[1;33m(\u001b[0m\u001b[0mavg\u001b[0m\u001b[1;33m)\u001b[0m\u001b[1;33m\u001b[0m\u001b[1;33m\u001b[0m\u001b[0m\n",
      "\u001b[1;31mNameError\u001b[0m: name 'average_reward_1' is not defined"
     ]
    }
   ],
   "source": [
    "import matplotlib.pyplot as plt\n",
    "# Generate x-axis values as the indices of the list\n",
    "# for i in range(len(average_reward)):\n",
    "#     if average_reward[i]<0:  average_reward[i] = 0 \n",
    "smooth = []\n",
    "for i in range(len(average_reward_1)-900):\n",
    "    avg = (average_reward_1[i]+average_reward_1[100+i]+average_reward_1[200+i]+average_reward_1[300+i]+average_reward_1[400+i]+average_reward_1[500+i]+average_reward_1[600+i]+average_reward_1[700+i]+average_reward_1[800+i]+average_reward_1[900+i])/10\n",
    "    smooth.append(avg)\n",
    "x_axis = range(len(smooth))\n",
    "# Plotting the figure\n",
    "plt.plot(x_axis, smooth)\n",
    "plt.xlabel('Episode')\n",
    "plt.ylabel('average_reward')\n",
    "plt.title('One_hot: S1 -> S2 (test)')\n",
    "plt.show()"
   ]
  },
  {
   "cell_type": "code",
   "execution_count": 14,
   "metadata": {},
   "outputs": [
    {
     "data": {
      "image/png": "[encoded data removed]",
      "text/plain": [
       "<Figure size 432x288 with 1 Axes>"
      ]
     },
     "metadata": {
      "needs_background": "light"
     },
     "output_type": "display_data"
    }
   ],
   "source": [
    "import matplotlib.pyplot as plt\n",
    "# Generate x-axis values as the indices of the list\n",
    "x_axis = range(len(average_reward))\n",
    "plt.plot(x_axis, average_reward)\n",
    "plt.xlabel('Episode')\n",
    "plt.ylabel('actor_loss')\n",
    "plt.title('S0: actor_loss vs Episode [with reference]')\n",
    "plt.show() "
   ]
  },
  {
   "cell_type": "code",
   "execution_count": 3,
   "metadata": {},
   "outputs": [
    {
     "data": {
      "image/png": "[encoded data removed]",
      "text/plain": [
       "<Figure size 432x288 with 1 Axes>"
      ]
     },
     "metadata": {
      "needs_background": "light"
     },
     "output_type": "display_data"
    }
   ],
   "source": [
    "import matplotlib.pyplot as plt\n",
    "# Generate x-axis values as the indices of the list\n",
    "x_axis = range(len(actor_loss)-100)\n",
    "average_loss = []\n",
    "for i in range(0, len(actor_loss)-interval):\n",
    "    average = sum(actor_loss[i:i+interval]) /interval\n",
    "    average_loss.append(average)\n",
    "\n",
    "# Plotting the figure\n",
    "plt.plot(x_axis, average_loss)\n",
    "plt.xlabel('Episode')\n",
    "plt.ylabel('actor_loss')\n",
    "plt.title('S0: actor_loss vs Episode [with reference]')\n",
    "plt.show()"
   ]
  },
  {
   "cell_type": "code",
   "execution_count": 4,
   "metadata": {},
   "outputs": [
    {
     "data": {
      "image/png": "[encoded data removed]",
      "text/plain": [
       "<Figure size 432x288 with 1 Axes>"
      ]
     },
     "metadata": {
      "needs_background": "light"
     },
     "output_type": "display_data"
    }
   ],
   "source": [
    "import matplotlib.pyplot as plt\n",
    "# Generate x-axis values as the indices of the list\n",
    "x_axis = range(len(critic_loss)-100)\n",
    "average_loss = []\n",
    "for i in range(0, len(critic_loss)-interval):\n",
    "    average = sum(critic_loss[i:i+interval]) /interval\n",
    "    average_loss.append(average)\n",
    "\n",
    "# Plotting the figure\n",
    "plt.plot(x_axis, average_loss)\n",
    "plt.xlabel('Episode')\n",
    "plt.ylabel('critic_loss')\n",
    "plt.title('S0: critic_loss vs Episode [with reference]')\n",
    "plt.show()"
   ]
  },
  {
   "cell_type": "code",
   "execution_count": null,
   "metadata": {},
   "outputs": [],
   "source": [
    "import matplotlib.pyplot as plt\n",
    "# Generate x-axis values as the indices of the list\n",
    "x_axis = range(len(entropy_loss)-100)\n",
    "average_loss = []\n",
    "for i in range(0, len(entropy_loss)-interval):\n",
    "    average = sum(entropy_loss[i:i+interval]) /interval\n",
    "    average_loss.append(average)\n",
    "\n",
    "# Plotting the figure\n",
    "plt.plot(x_axis, average_loss)\n",
    "plt.xlabel('Episode')\n",
    "plt.ylabel('entropy_loss')\n",
    "plt.title('S0: entropy_loss vs Episode [with reference]')\n",
    "plt.show()"
   ]
  },
  {
   "cell_type": "code",
   "execution_count": null,
   "metadata": {},
   "outputs": [],
   "source": [
    "import matplotlib.pyplot as plt\n",
    "# Generate x-axis values as the indices of the list\n",
    "x_axis = range(len(total_loss)-100)\n",
    "average_loss = []\n",
    "for i in range(0, len(total_loss)-interval):\n",
    "    average = sum(total_loss[i:i+interval]) /interval\n",
    "    average_loss.append(average)\n",
    "\n",
    "# Plotting the figure\n",
    "plt.plot(x_axis, average_loss)\n",
    "plt.xlabel('Episode')\n",
    "plt.ylabel('total_loss')\n",
    "plt.title('S0: total_loss vs Episode [with reference]')\n",
    "plt.show()"
   ]
  },
  {
   "cell_type": "code",
   "execution_count": null,
   "metadata": {},
   "outputs": [],
   "source": [
    "import matplotlib.pyplot as plt\n",
    "# Generate x-axis values as the indices of the list\n",
    "x_axis = range(len(steps)-100)\n",
    "average_loss = []\n",
    "for i in range(0, len(steps)-interval):\n",
    "    average = sum(steps[i:i+interval]) /interval\n",
    "    average_loss.append(average)\n",
    "\n",
    "# Plotting the figure\n",
    "plt.plot(x_axis, average_loss)\n",
    "plt.xlabel('Episode')\n",
    "plt.ylabel('steps')\n",
    "plt.title('S0: steps vs Episode [with reference]')\n",
    "plt.show()"
   ]
  },
  {
   "attachments": {},
   "cell_type": "markdown",
   "metadata": {},
   "source": [
    "Word"
   ]
  },
  {
   "cell_type": "code",
   "execution_count": 4,
   "metadata": {},
   "outputs": [
    {
     "name": "stdout",
     "output_type": "stream",
     "text": [
      "8.34\n"
     ]
    }
   ],
   "source": [
    "import docx2txt\n",
    "import re\n",
    "\n",
    "# Extract text from the Word file\n",
    "text = docx2txt.process(r'C:\\Users\\linzj\\Desktop\\result\\S2bert_1.docx')\n",
    "\n",
    "\n",
    "# Extract number after \"Average Reward\"\n",
    "average_rewards = re.findall(r'Average Reward (-?\\d+\\.?\\d*)', text)\n",
    "average_rewards = [float(num) for num in average_rewards]\n",
    "\n",
    "print(max(average_rewards))\n",
    "\n",
    "# # Extract number after \"Actor Loss\"\n",
    "# episode_reward = re.findall(r'Episode Reward: (-?\\d+\\.?\\d*)', text)\n",
    "# episode_reward = [float(num) for num in episode_reward]\n",
    "\n",
    "# # Extract number after \"Actor Loss\"\n",
    "# actor_loss = re.findall(r'Actor loss: (-?\\d+\\.?\\d*)', text)\n",
    "# actor_loss = [float(num) for num in actor_loss]\n",
    "\n",
    "# # Extract number after \"Critic Loss\"\n",
    "# critic_loss = re.findall(r'Critic loss: (-?\\d+\\.?\\d*)', text)\n",
    "# critic_loss = [float(num) for num in critic_loss]\n",
    "\n",
    "# # Extract number after \"Entropy Loss\"\n",
    "# entropy_loss = re.findall(r'Entropy loss: (-?\\d+\\.?\\d*)', text)\n",
    "# entropy_loss = [float(num) for num in entropy_loss]\n",
    "\n",
    "# # Extract number after \"Total Loss\"\n",
    "# total_loss = re.findall(r'Total Loss: (-?\\d+\\.?\\d*)', text)\n",
    "# total_loss = [float(num) for num in total_loss]\n",
    "\n",
    "# # Extract number after \"Total Step\"\n",
    "# total_steps = re.findall(r'Total Steps: (-?\\d+\\.?\\d*)', text)\n",
    "# total_steps = [float(num) for num in total_steps]"
   ]
  },
  {
   "cell_type": "code",
   "execution_count": 5,
   "metadata": {},
   "outputs": [
    {
     "data": {
      "text/plain": [
       "6.49"
      ]
     },
     "execution_count": 5,
     "metadata": {},
     "output_type": "execute_result"
    }
   ],
   "source": [
    "average_rewards_train,average_rewards_test = [],[]\n",
    "for i in range(1,len(average_rewards)):\n",
    "    if ((i-1)//100) % 2: \n",
    "        average_rewards_test.append(average_rewards[i])\n",
    "    else: \n",
    "        average_rewards_train.append(average_rewards[i])\n",
    "max(average_rewards_test)\n",
    "\n",
    "\n",
    "\n"
   ]
  },
  {
   "cell_type": "code",
   "execution_count": 6,
   "metadata": {},
   "outputs": [],
   "source": [
    "import json\n",
    "ALG_NAME = 'S2bert'\n",
    "ENV_ID = 1\n",
    "data = {\n",
    "            'all_average_reward': average_rewards_train,\n",
    "            \n",
    "        } \n",
    "file_path = rf'C:\\Users\\linzj\\Desktop\\result\\{ALG_NAME}_{ENV_ID}_train.txt'\n",
    "with open(file_path, 'w') as file:\n",
    "    json.dump(data, file)\n",
    "\n",
    "test_data = {\n",
    "            'all_average_reward': average_rewards_test,\n",
    "            \n",
    "        } \n",
    "file_path = rf'C:\\Users\\linzj\\Desktop\\result\\{ALG_NAME}_{ENV_ID}_test.txt'\n",
    "with open(file_path, 'w') as file:\n",
    "    json.dump(test_data, file)"
   ]
  },
  {
   "cell_type": "code",
   "execution_count": 42,
   "metadata": {},
   "outputs": [
    {
     "name": "stdout",
     "output_type": "stream",
     "text": [
      "43602\n"
     ]
    }
   ],
   "source": [
    "for i in range(len(average_rewards_train)):\n",
    "    if average_rewards_train[i] >=9: \n",
    "        print(i)\n",
    "        break"
   ]
  },
  {
   "cell_type": "code",
   "execution_count": 14,
   "metadata": {},
   "outputs": [
    {
     "data": {
      "image/png": "[encoded data removed]",
      "text/plain": [
       "<Figure size 432x288 with 1 Axes>"
      ]
     },
     "metadata": {
      "needs_background": "light"
     },
     "output_type": "display_data"
    }
   ],
   "source": [
    "import matplotlib.pyplot as plt\n",
    "\n",
    "# Sample data\n",
    "\n",
    "\n",
    "# Generate x-axis values as the indices of the list\n",
    "x_axis = range(len(average_rewards_test))\n",
    "\n",
    "# Plotting the figure\n",
    "plt.plot(x_axis, average_rewards_test)\n",
    "plt.xlabel('Episode')\n",
    "plt.ylabel('Rewards')\n",
    "plt.title('S2 -> S1: Train')\n",
    "plt.show()"
   ]
  },
  {
   "cell_type": "code",
   "execution_count": null,
   "metadata": {},
   "outputs": [],
   "source": [
    "import matplotlib.pyplot as plt\n",
    "\n",
    "# Sample data\n",
    "\n",
    "\n",
    "# Generate x-axis values as the indices of the list\n",
    "x_axis = range(len(actor_loss)-100)\n",
    "interval = 100  # Interval for averaging\n",
    "\n",
    "average_loss = []\n",
    "for i in range(0, len(actor_loss)-interval):\n",
    "    average = sum(actor_loss[i:i+interval]) /interval\n",
    "    average_loss.append(average)\n",
    "\n",
    "# Plotting the figure\n",
    "plt.plot(x_axis, average_loss)\n",
    "plt.xlabel('Episode')\n",
    "plt.ylabel('Actor Loss')\n",
    "plt.title('S0: Actor Loss vs Episode [with reference]')\n",
    "plt.show()"
   ]
  },
  {
   "cell_type": "code",
   "execution_count": null,
   "metadata": {},
   "outputs": [],
   "source": [
    "import matplotlib.pyplot as plt\n",
    "\n",
    "# Sample data\n",
    "\n",
    "\n",
    "# Generate x-axis values as the indices of the list\n",
    "x_axis = range(len(critic_loss)-100)\n",
    "interval = 100  # Interval for averaging\n",
    "\n",
    "average_loss = []\n",
    "for i in range(0, len(critic_loss)-interval):\n",
    "    average = sum(critic_loss[i:i+interval]) /interval\n",
    "    average_loss.append(average)\n",
    "\n",
    "# Plotting the figure\n",
    "plt.plot(x_axis, average_loss)\n",
    "plt.xlabel('Episode')\n",
    "plt.ylabel('Critic Loss')\n",
    "plt.title('S0: Critic Loss vs Episode [with reference]')\n",
    "plt.show()"
   ]
  },
  {
   "cell_type": "code",
   "execution_count": null,
   "metadata": {},
   "outputs": [],
   "source": [
    "import matplotlib.pyplot as plt\n",
    "\n",
    "# Sample data\n",
    "\n",
    "\n",
    "# Generate x-axis values as the indices of the list\n",
    "x_axis = range(len(entropy_loss)-100)\n",
    "interval = 100  # Interval for averaging\n",
    "\n",
    "average_loss = []\n",
    "for i in range(0, len(entropy_loss)-interval):\n",
    "    average = sum(entropy_loss[i:i+interval]) /interval\n",
    "    average_loss.append(average)\n",
    "\n",
    "# Plotting the figure\n",
    "plt.plot(x_axis, average_loss)\n",
    "plt.xlabel('Episode')\n",
    "plt.ylabel('Entropy Loss')\n",
    "plt.title('S0: Entropy Loss vs Episode [with reference]')\n",
    "plt.show()"
   ]
  },
  {
   "cell_type": "code",
   "execution_count": null,
   "metadata": {},
   "outputs": [],
   "source": [
    "import matplotlib.pyplot as plt\n",
    "\n",
    "# Sample data\n",
    "\n",
    "\n",
    "# Generate x-axis values as the indices of the list\n",
    "x_axis = range(len(total_loss)-100)\n",
    "interval = 100  # Interval for averaging\n",
    "\n",
    "average_loss = []\n",
    "for i in range(0, len(total_loss)-interval):\n",
    "    average = sum(total_loss[i:i+interval]) /interval\n",
    "    average_loss.append(average)\n",
    "\n",
    "# Plotting the figure\n",
    "plt.plot(x_axis, average_loss)\n",
    "plt.xlabel('Episode')\n",
    "plt.ylabel('Total Loss')\n",
    "plt.title('S0: Total Loss vs Episode [with reference]')\n",
    "plt.show()"
   ]
  },
  {
   "cell_type": "code",
   "execution_count": null,
   "metadata": {},
   "outputs": [],
   "source": [
    "import matplotlib.pyplot as plt\n",
    "\n",
    "# Sample data\n",
    "\n",
    "\n",
    "# Generate x-axis values as the indices of the list\n",
    "x_axis = range(len(total_steps)-100)\n",
    "interval = 100  # Interval for averaging\n",
    "\n",
    "average_step = []\n",
    "for i in range(0, len(total_steps)-interval):\n",
    "    average = sum(total_steps[i:i+interval]) /interval\n",
    "    average_step.append(average)\n",
    "\n",
    "# Plotting the figure\n",
    "plt.plot(x_axis, average_step)\n",
    "plt.xlabel('Episode')\n",
    "plt.ylabel('Steps')\n",
    "plt.title('S0: Steps vs Episode [with reference]')\n",
    "plt.show()"
   ]
  },
  {
   "cell_type": "code",
   "execution_count": null,
   "metadata": {},
   "outputs": [],
   "source": [
    "import ast\n",
    "file_path = r'C:\\Users\\linzj\\Desktop\\S0_withoutreference_290623.txt'\n",
    "file = open(file_path, 'r')\n",
    "\n",
    "# Read the contents of the file\n",
    "content = file.read()\n",
    "average_rewards = ast.literal_eval(content)"
   ]
  },
  {
   "cell_type": "code",
   "execution_count": 11,
   "metadata": {},
   "outputs": [
    {
     "name": "stdout",
     "output_type": "stream",
     "text": [
      "torch.Size([1, 77])\n",
      "torch.Size([1, 77, 512])\n",
      "torch.Size([77])\n",
      "torch.Size([128])\n"
     ]
    }
   ],
   "source": [
    "import re\n",
    "import open_clip\n",
    "import torch\n",
    "import torch.nn as nn\n",
    "from torch.utils.data import DataLoader, Dataset\n",
    "from torch.nn.utils.rnn import pad_sequence\n",
    "from itertools import product\n",
    "import torch.nn.functional as F\n",
    "embedding_dim = 128\n",
    "\n",
    "\n",
    "class TextEncoder(nn.Module): \n",
    "    def __init__(self,embedding_dim):\n",
    "        super(TextEncoder, self).__init__()\n",
    "\n",
    "        self.encoded = nn.Embedding(49408,512)\n",
    "        self.linear = nn.Linear(77,embedding_dim)\n",
    "\n",
    "    def forward(self, x):\n",
    "        print(x.size())       \n",
    "        encoded = self.encoded(x)\n",
    "        print(encoded.size())\n",
    "        encoded = nn.AvgPool1d(kernel_size=encoded.size(-1))(encoded).squeeze()\n",
    "        print(encoded.size())\n",
    "        encoded = self.linear(encoded)\n",
    "        print(encoded.size())\n",
    "        return encoded\n",
    "    \n",
    "input_string = \"Give me the blue prism, please!\"\n",
    "\n",
    "\n",
    "tokenizer = open_clip.get_tokenizer('ViT-B-32')\n",
    "    \n",
    "# Create the text encoder model\n",
    "text_encoder = TextEncoder(embedding_dim)  # Use 'len(vocab)' to get the vocab_size\n",
    "sequence = tokenizer(input_string) # Tokenize the input string\n",
    "# sequence = F.normalize(sequence)\n",
    "# sequence /= sequence.norm(dim=-1, keepdim=True)\n",
    "# print(f'Normalized sequence: {sequence}')\n",
    "\n",
    "encoded_tensor = text_encoder(sequence)"
   ]
  }
 ],
 "metadata": {
  "kernelspec": {
   "display_name": "rl",
   "language": "python",
   "name": "python3"
  },
  "language_info": {
   "codemirror_mode": {
    "name": "ipython",
    "version": 3
   },
   "file_extension": ".py",
   "mimetype": "text/x-python",
   "name": "python",
   "nbconvert_exporter": "python",
   "pygments_lexer": "ipython3",
   "version": "3.6.13"
  },
  "orig_nbformat": 4
 },
 "nbformat": 4,
 "nbformat_minor": 2
}
