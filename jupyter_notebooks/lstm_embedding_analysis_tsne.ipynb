{
 "cells": [
  {
   "cell_type": "markdown",
   "metadata": {},
   "source": [
    "Visualize embedding of instructions learned by text encoders\n",
    "Ganesh 11/08/2023"
   ]
  },
  {
   "cell_type": "code",
   "execution_count": 67,
   "metadata": {},
   "outputs": [],
   "source": [
    "import numpy as np\n",
    "import matplotlib.pyplot as plt\n",
    "from openTSNE import TSNE\n",
    "import pickle"
   ]
  },
  {
   "cell_type": "code",
   "execution_count": 68,
   "metadata": {},
   "outputs": [
    {
     "name": "stdout",
     "output_type": "stream",
     "text": [
      "S1 & S2\n"
     ]
    }
   ],
   "source": [
    "# get parameters\n",
    "model_name = \"One-hot LSTM\"\n",
    "save_fig_dir = \"./figures/\"\n",
    "zero_shot = True\n",
    "conceptlearning = True\n",
    "\n",
    "\n",
    "if conceptlearning:\n",
    "    train_embd_dir = \"./embeddings/S3/lstm_activity_fromS1_train.pkl\"\n",
    "    test_embd_dir = \"./embeddings/S3/lstm_activity_fromS1_test.pkl\"\n",
    "    pretrained = True\n",
    "else:\n",
    "    train_embd_dir = \"./embeddings/S3/lstm_activity_fromscratch_train.pkl\"\n",
    "    test_embd_dir = \"./embeddings/S3/lstm_activity_fromscratch_test.pkl\"\n",
    "    pretrained = False\n",
    "\n",
    "training = \"S1 & S2\" if pretrained else \"S2 only\"\n",
    "print(training)\n",
    "\n",
    "figsize = (6,4)"
   ]
  },
  {
   "cell_type": "code",
   "execution_count": 69,
   "metadata": {},
   "outputs": [
    {
     "name": "stdout",
     "output_type": "stream",
     "text": [
      "['red capsule prism', 'red capsule sphere', 'red cube cylinder', 'red cube prism', 'red cube sphere', 'red cylinder prism', 'red cylinder sphere', 'red prism sphere', 'green capsule cube', 'green capsule cylinder', 'green capsule prism', 'green capsule sphere', 'green cube sphere', 'green cylinder prism', 'green cylinder sphere', 'green prism sphere', 'blue capsule cube', 'blue capsule cylinder', 'blue capsule prism', 'blue capsule sphere', 'blue cube cylinder', 'blue cube prism', 'blue cube sphere', 'blue prism sphere', 'yellow capsule cube', 'yellow capsule cylinder', 'yellow capsule sphere', 'yellow cube cylinder', 'yellow cube prism', 'yellow cube sphere', 'yellow cylinder prism', 'yellow cylinder sphere', 'black capsule cube', 'black capsule cylinder', 'black capsule prism', 'black cube cylinder', 'black cube prism', 'black cylinder prism', 'black cylinder sphere', 'black prism sphere']\n",
      "(40, 10, 100, 256)\n",
      "['red capsule cube', 'red capsule cylinder', 'green cube cylinder', 'green cube prism', 'blue cylinder prism', 'blue cylinder sphere', 'yellow prism sphere', 'yellow capsule prism', 'black capsule sphere', 'black cube sphere']\n",
      "(10, 10, 100, 256)\n"
     ]
    }
   ],
   "source": [
    "# import instructions & embeddings\n",
    "\n",
    "def get_inst_emb(file_dir):\n",
    "    with open(file_dir, 'rb') as f:\n",
    "        x = pickle.load(f)\n",
    "    return list(x.keys()), np.array([x[i] for i in x.keys()])\n",
    "\n",
    "\n",
    "train_instructions, train_embeddings = get_inst_emb(train_embd_dir)\n",
    "test_instructions, test_embeddings = get_inst_emb(test_embd_dir)\n",
    "\n",
    "print(train_instructions)\n",
    "print(train_embeddings.shape)\n",
    "print(test_instructions)\n",
    "print(test_embeddings.shape)\n"
   ]
  },
  {
   "cell_type": "code",
   "execution_count": 70,
   "metadata": {},
   "outputs": [
    {
     "name": "stdout",
     "output_type": "stream",
     "text": [
      "(400,)\n",
      "(100,)\n",
      "(400, 256)\n",
      "(100, 256)\n"
     ]
    }
   ],
   "source": [
    "# reshape LSTM embeddings\n",
    "\n",
    "_,train_indices = np.meshgrid(np.arange(10),np.arange(40))\n",
    "_,test_indices = np.meshgrid(np.arange(10),np.arange(10))\n",
    "\n",
    "train_idx = np.reshape(train_indices,[400])\n",
    "test_idx = np.reshape(test_indices,[100])\n",
    "print(train_idx.shape)\n",
    "print(test_idx.shape)\n",
    "\n",
    "step = 1\n",
    "tr_emb = train_embeddings[:,:,step,:]\n",
    "tr_emb = np.reshape(tr_emb,[400,256])\n",
    "print(tr_emb.shape)\n",
    "\n",
    "ts_emb = test_embeddings[:,:,step,:]\n",
    "ts_emb = np.reshape(ts_emb,[100,256])\n",
    "print(ts_emb.shape)"
   ]
  },
  {
   "cell_type": "code",
   "execution_count": 71,
   "metadata": {},
   "outputs": [
    {
     "name": "stdout",
     "output_type": "stream",
     "text": [
      "(400, 2)\n",
      "(100, 2)\n"
     ]
    }
   ],
   "source": [
    "if zero_shot:\n",
    "    # get word embedding using TSNE\n",
    "    tsne = TSNE(perplexity=8.0, random_state=42)  # get N components to get 95% variance\n",
    "\n",
    "    # fit the principal components using only the train embeddings & transform them\n",
    "    emb = np.concatenate([tr_emb, ts_emb],axis=0)\n",
    "    emb = tsne.fit(emb)\n",
    "    train_emb = emb[:400]\n",
    "    test_emb = emb[400:]\n",
    "    print(train_emb.shape)\n",
    "    print(test_emb.shape)\n",
    "    \n",
    "else:\n",
    "    # get word embedding using TSNE\n",
    "    tsne = TSNE(perplexity=8.0, random_state=42)  # get N components to get 95% variance\n",
    "\n",
    "    # fit the principal components using only the train embeddings & transform them\n",
    "    train_emb = tsne.fit(tr_emb)\n",
    "\n",
    "    # get number of components & variance explained by each\n",
    "    print(train_emb.shape)\n",
    "    print(train_emb)\n",
    "    #print(np.round(tsne.explained_variance_ratio_,3))\n",
    "\n",
    "    # transform the test embeddings using the components learned using train embeddings\n",
    "    test_emb = train_emb.transform(ts_emb)\n",
    "    print(test_emb.shape)\n",
    "    print(test_emb)\n"
   ]
  },
  {
   "cell_type": "code",
   "execution_count": 72,
   "metadata": {},
   "outputs": [
    {
     "name": "stdout",
     "output_type": "stream",
     "text": [
      "(40, 2)\n",
      "(10, 2)\n"
     ]
    }
   ],
   "source": [
    "# reshape LSTM activity\n",
    "train_idx_reverse = train_idx.reshape([40,10])\n",
    "train_emb_reverse = train_emb.reshape([40,10,train_emb.shape[1]])\n",
    "train_emb_reverse = np.mean(train_emb_reverse,axis=1)\n",
    "\n",
    "#print(train_idx_reverse)\n",
    "print(train_emb_reverse.shape)\n",
    "\n",
    "test_emb_reverse = test_emb.reshape([10,10,test_emb.shape[1]])\n",
    "test_emb_reverse = np.mean(test_emb_reverse,axis=1)\n",
    "print(test_emb_reverse.shape)\n"
   ]
  },
  {
   "cell_type": "code",
   "execution_count": 73,
   "metadata": {},
   "outputs": [
    {
     "name": "stdout",
     "output_type": "stream",
     "text": [
      "['<', '*', 's', 'x', 'o', '>', 'd', '^', 'P', '+', '<', '*', 'o', '>', 'd', '^', 'P', '+', '<', '*', 's', 'x', 'o', '^', 'P', '+', '*', 's', 'x', 'o', '>', 'd', 'P', '+', '<', 's', 'x', '>', 'd', '^']\n",
      "['P', '+', 's', 'x', '>', 'd', '^', '<', '*', 'o']\n"
     ]
    }
   ],
   "source": [
    "# get color map\n",
    "# N = 50\n",
    "# def get_cmap(n, name='hsv'):\n",
    "#     '''Returns a function that maps each index in 0, 1, ..., n-1 to a distinct \n",
    "#     RGB color; the keyword argument name must be a standard mpl colormap name.'''\n",
    "#     return plt.cm.get_cmap(name, n)\n",
    "\n",
    "# cmap = get_cmap(N)\n",
    "\n",
    "\n",
    "name_rules = {\n",
    "    \"cube cylinder\": \"s\",\n",
    "    \"cube prism\": \"x\",\n",
    "    \"cube sphere\": \"o\",\n",
    "\n",
    "    \"capsule cube\": \"P\",\n",
    "    \"capsule cylinder\": \"+\",\n",
    "    \"capsule prism\": \"<\",\n",
    "    \"capsule sphere\": \"*\",\n",
    "\n",
    "    \"cylinder prism\": \">\",\n",
    "    \"cylinder sphere\": \"d\",\n",
    "    \n",
    "    \"prism sphere\": \"^\",\n",
    "    # Add more rules as needed\n",
    "}\n",
    "\n",
    "def get_colormap_symbolmap(instructions):\n",
    "    colormap = []\n",
    "    shapemap = []\n",
    "    for inst in instructions:\n",
    "        color = inst.split(' ')[0]\n",
    "\n",
    "        shape1 = inst.split(' ')[1]\n",
    "        shape2 = inst.split(' ')[2]\n",
    "        shape = shape1 + ' ' + shape2\n",
    "\n",
    "        colormap.append(color)\n",
    "        shapemap.append(shape)\n",
    "    symbolmap = [name_rules[name] if name in name_rules else name for name in shapemap]\n",
    "    return colormap,symbolmap\n",
    "\n",
    "train_colormap, train_symbolmap = get_colormap_symbolmap(train_instructions)\n",
    "test_colormap,test_symbolmap = get_colormap_symbolmap(test_instructions)\n",
    "print(train_symbolmap)\n",
    "print(test_symbolmap)\n"
   ]
  },
  {
   "cell_type": "code",
   "execution_count": 74,
   "metadata": {},
   "outputs": [
    {
     "data": {
      "image/png": "[encoded data removed]",
      "text/plain": [
       "<Figure size 600x400 with 1 Axes>"
      ]
     },
     "metadata": {},
     "output_type": "display_data"
    }
   ],
   "source": [
    "# plot train embeddings using colormap\n",
    "\n",
    "f = plt.figure(figsize=figsize)\n",
    "plt.title(f\"{model_name} model's centroid embedding, {training} training\")\n",
    "plt.xlabel(\"TSNE1\")\n",
    "plt.ylabel(\"TSNE2\")\n",
    "plt.gca().spines[['right', 'top']].set_visible(False)\n",
    "\n",
    "for c, inst, emb in zip(np.arange(len(train_instructions)), train_instructions, train_emb_reverse):\n",
    "    x1 = emb[0]\n",
    "    x2 = emb[1]        \n",
    "    plt.scatter(x1, x2, marker=train_symbolmap[c], color=train_colormap[c],s=50)\n",
    "        #plt.text(x1,x2,s=inst, fontsize=8)\n",
    "\n",
    "# plot test embeddings using colormap\n",
    "for c, inst, emb in zip(np.arange(len(test_instructions)), test_instructions, test_emb_reverse):\n",
    "    x1 = emb[0]\n",
    "    x2 = emb[1]\n",
    "    plt.scatter(x1, x2, marker=test_symbolmap[c], color=test_colormap[c], s=50)\n",
    "        #plt.text(x1,x2,s=inst, fontsize=8, color=\"magenta\")\n",
    "plt.show()\n",
    "f.savefig(f\"{save_fig_dir}{model_name}_{training}_2D_TSNE.png\")\n"
   ]
  }
 ],
 "metadata": {
  "kernelspec": {
   "display_name": "base",
   "language": "python",
   "name": "python3"
  },
  "language_info": {
   "codemirror_mode": {
    "name": "ipython",
    "version": 3
   },
   "file_extension": ".py",
   "mimetype": "text/x-python",
   "name": "python",
   "nbconvert_exporter": "python",
   "pygments_lexer": "ipython3",
   "version": "3.9.16"
  },
  "orig_nbformat": 4
 },
 "nbformat": 4,
 "nbformat_minor": 2
}
